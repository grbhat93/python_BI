{
 "cells": [
  {
   "cell_type": "code",
   "execution_count": null,
   "metadata": {},
   "outputs": [],
   "source": [
    "#1 Write a Python program to find those numbers which are divisible by 7 and multiple of 5, between 1500 and 2700 \n",
    "#(both included)\n"
   ]
  },
  {
   "cell_type": "code",
   "execution_count": null,
   "metadata": {
    "scrolled": true
   },
   "outputs": [],
   "source": [
    "print(\"No which are divisible by 7 and multiple of 5 : \")\n",
    "y=2700\n",
    "for i in range(1500,2701):\n",
    "    if (i%7==0) and (i%5==0):\n",
    "        print(i)         "
   ]
  },
  {
   "cell_type": "code",
   "execution_count": null,
   "metadata": {},
   "outputs": [],
   "source": [
    "l=[]\n",
    "for x in range(1500, 2701):\n",
    "    if (x%7==0) and (x%5==0):\n",
    "        l.append(str(x))\n",
    "        #print(l)\n",
    "print ('|'.join(l))"
   ]
  },
  {
   "cell_type": "code",
   "execution_count": null,
   "metadata": {},
   "outputs": [],
   "source": [
    "#2.Python program to add two numbers\n",
    "\n",
    "x=float(input(\"Enter a number\"))\n",
    "y=float(input(\"Enter a second number\"))\n",
    "print(\"Output = \",x+y)"
   ]
  },
  {
   "cell_type": "code",
   "execution_count": 3,
   "metadata": {},
   "outputs": [
    {
     "name": "stdout",
     "output_type": "stream",
     "text": [
      "Program to find max of two no\n",
      "77 is greater\n"
     ]
    }
   ],
   "source": [
    "#3.Maximum of two numbers in Python\n",
    "\n",
    "print(\"Program to find max of two no\")\n",
    "# x=int(input(\"Enter a no \"))\n",
    "# y=int(input(\"Enter your second no \"))\n",
    "x=32\n",
    "y=77\n",
    "if x>y:\n",
    "    print(x,\" is greater\")\n",
    "else:\n",
    "    print(y,\"is greater\")\n",
    " "
   ]
  },
  {
   "cell_type": "code",
   "execution_count": 16,
   "metadata": {},
   "outputs": [
    {
     "name": "stdout",
     "output_type": "stream",
     "text": [
      "Enter a number7\n",
      "Factorial of   7 is 5040\n"
     ]
    }
   ],
   "source": [
    "#4.Python Program for factorial of a number\n",
    "n=int(input(\"Enter a number\"))\n",
    "fact=1\n",
    "for i in range (1,n+1):\n",
    "    fact*=i\n",
    "print(\"Factorial of  \", n ,\"is\",fact)"
   ]
  },
  {
   "cell_type": "code",
   "execution_count": 18,
   "metadata": {},
   "outputs": [
    {
     "name": "stdout",
     "output_type": "stream",
     "text": [
      "Enter principle amount30000\n",
      "Enter the term3\n",
      "Enter rate of interest10\n",
      "Simple interest is  9000.0\n"
     ]
    }
   ],
   "source": [
    "#5.Python Program for simple interest\n",
    "\n",
    "p=int(input(\"Enter principle amount\"))\n",
    "t=int(input(\"Enter the term\"))\n",
    "r=int(input(\"Enter rate of interest\"))\n",
    "interest=(p*t*r)/100\n",
    "print(\"Simple interest is \",interest)"
   ]
  },
  {
   "cell_type": "code",
   "execution_count": 23,
   "metadata": {},
   "outputs": [
    {
     "name": "stdout",
     "output_type": "stream",
     "text": [
      "Enter principle amount700000\n",
      "Enter rate of interest9.5\n",
      "Enter the term20\n",
      "Compound interest is 3599128.4728762535\n"
     ]
    }
   ],
   "source": [
    "#6.Python Program for compound interest\n",
    "\n",
    "def compound_interest(principle, rate, time):\n",
    " \n",
    "    # Calculates compound interest\n",
    "    Amount = principle * (pow((1 + rate / 100), time))\n",
    "    CI = Amount - principle\n",
    "    print(\"Compound interest is\", CI)\n",
    " \n",
    "p=float(input(\"Enter principle amount\"))\n",
    "r=float(input(\"Enter rate of interest\"))\n",
    "t=float(input(\"Enter the term\"))\n",
    "compound_interest(p, r, t)\n"
   ]
  },
  {
   "cell_type": "code",
   "execution_count": 24,
   "metadata": {},
   "outputs": [
    {
     "name": "stdout",
     "output_type": "stream",
     "text": [
      "Enter a number: 153\n",
      "153 is an Armstrong number\n"
     ]
    }
   ],
   "source": [
    "#7 Python Program to check Armstrong Number\n",
    "# take input from the user\n",
    "num = int(input(\"Enter a number: \"))\n",
    "\n",
    "# initialize sum\n",
    "sum = 0\n",
    "\n",
    "# find the sum of the cube of each digit\n",
    "temp = num\n",
    "while temp > 0:\n",
    "   digit = temp % 10\n",
    "   sum += digit ** 3\n",
    "   temp //= 10\n",
    "\n",
    "# display the result\n",
    "if num == sum:\n",
    "   print(num,\"is an Armstrong number\")\n",
    "else:\n",
    "   print(num,\"is not an Armstrong number\")\n"
   ]
  },
  {
   "cell_type": "code",
   "execution_count": 25,
   "metadata": {},
   "outputs": [
    {
     "name": "stdout",
     "output_type": "stream",
     "text": [
      "Enter area 4\n",
      "Area is 50.272000\n"
     ]
    }
   ],
   "source": [
    "#8.Python Program for Program to find area of a circle\n",
    "\n",
    "def findArea(r):\n",
    "    PI = 3.142\n",
    "    return PI * (r*r);\n",
    "n=int(input(\"Enter area \"))\n",
    "print(\"Area is %.6f\" % findArea(n))"
   ]
  },
  {
   "cell_type": "code",
   "execution_count": null,
   "metadata": {},
   "outputs": [],
   "source": [
    "#9.Python program to print all Prime numbers in an Interval\n",
    "start = int(input(\"Enter a starting number \"))\n",
    "end = int(input(\"Enter your secong no\"))\n",
    "  \n",
    "for i in range(start, end+1):\n",
    "  if i>1:\n",
    "    for j in range(2,int(i/2)):\n",
    "        if(i % j==0):\n",
    "            break\n",
    "    else:\n",
    "        print(i)\n",
    "else:\n",
    "    print(\"No entered should be greater than 1\")\n",
    "\n",
    "\n"
   ]
  },
  {
   "cell_type": "code",
   "execution_count": null,
   "metadata": {},
   "outputs": [],
   "source": [
    "#10. Python program to check whether a number is Prime or not\n",
    "\n",
    "num = int(input(\"Enter a Number\"))\n",
    " \n",
    "# If given number is greater than 1\n",
    "if num > 1:\n",
    " \n",
    "    # Iterate from 2 to n / 2\n",
    "    for i in range(2, int(num/2)+1):\n",
    " \n",
    "        # If num is divisible by any number between 2 and n / 2, it is not prime\n",
    "        \n",
    "        if (num % i) == 0:\n",
    "            print(num, \"is not a prime number\")\n",
    "            break\n",
    "    else:\n",
    "        print(num, \"is a prime number\")\n",
    " \n",
    "else:\n",
    "    print(num, \"is not a prime number\")"
   ]
  },
  {
   "cell_type": "code",
   "execution_count": null,
   "metadata": {},
   "outputs": [],
   "source": []
  }
 ],
 "metadata": {
  "kernelspec": {
   "display_name": "Python 3",
   "language": "python",
   "name": "python3"
  },
  "language_info": {
   "codemirror_mode": {
    "name": "ipython",
    "version": 3
   },
   "file_extension": ".py",
   "mimetype": "text/x-python",
   "name": "python",
   "nbconvert_exporter": "python",
   "pygments_lexer": "ipython3",
   "version": "3.7.4"
  }
 },
 "nbformat": 4,
 "nbformat_minor": 2
}
