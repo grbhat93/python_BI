{
 "cells": [
  {
   "cell_type": "markdown",
   "metadata": {},
   "source": [
    "1.\tPython program to find smallest number in a list"
   ]
  },
  {
   "cell_type": "code",
   "execution_count": 7,
   "metadata": {},
   "outputs": [
    {
     "data": {
      "text/plain": [
       "3"
      ]
     },
     "execution_count": 7,
     "metadata": {},
     "output_type": "execute_result"
    }
   ],
   "source": [
    "l=[3,7,5,8,3]\n",
    "min=l[0]\n",
    "for i in range(len(l)):\n",
    "    if l[i]< min:\n",
    "        min=l[i]\n",
    "min\n",
    "    "
   ]
  },
  {
   "cell_type": "markdown",
   "metadata": {},
   "source": [
    "2.\tPython program to find largest number in a list"
   ]
  },
  {
   "cell_type": "code",
   "execution_count": 12,
   "metadata": {},
   "outputs": [
    {
     "name": "stdout",
     "output_type": "stream",
     "text": [
      " Largest no in the list :  8\n"
     ]
    }
   ],
   "source": [
    "l=[3,7,5,8,3]\n",
    "print(\" Largest no in the list : \",max(l))"
   ]
  },
  {
   "cell_type": "markdown",
   "metadata": {},
   "source": [
    "3.\tPython program to find second largest number in a list"
   ]
  },
  {
   "cell_type": "code",
   "execution_count": 16,
   "metadata": {},
   "outputs": [
    {
     "name": "stdout",
     "output_type": "stream",
     "text": [
      " Second larget element \n"
     ]
    },
    {
     "data": {
      "text/plain": [
       "7"
      ]
     },
     "execution_count": 16,
     "metadata": {},
     "output_type": "execute_result"
    }
   ],
   "source": [
    "l=[3,7,5,8,3]\n",
    "print(\" Second larget element \")\n",
    "l.sort()\n",
    "l[-2]\n"
   ]
  },
  {
   "cell_type": "markdown",
   "metadata": {},
   "source": [
    "4.\tPython program to find N largest elements from a list"
   ]
  },
  {
   "cell_type": "code",
   "execution_count": 2,
   "metadata": {},
   "outputs": [
    {
     "name": "stdout",
     "output_type": "stream",
     "text": [
      "Enter the number 3\n",
      "Printing the list  [23, 45, 66, 5, 45, 86]\n",
      "Printing the list  [23, 45, 66, 5, 45]\n",
      "Printing the list  [23, 45, 5, 45]\n",
      "MAX list  [90, 86, 66]\n"
     ]
    }
   ],
   "source": [
    "def Nmaxlist(list1,N):\n",
    "    final_list=[]\n",
    "    for i in range(N):\n",
    "        max1=0\n",
    "        for j in range(len(list1)):\n",
    "            if list1[j]>max1:\n",
    "                max1=list1[j]\n",
    "        final_list.append(max1)\n",
    "        list1.remove(max1)\n",
    "        print(\"Printing the list \",list1)\n",
    "    return final_list\n",
    "        \n",
    "                \n",
    "\n",
    "l=[23,45,66,5,45,90,86]\n",
    "N=int(input(\"Enter the number \"))\n",
    "print(\"MAX list \",Nmaxlist(l,N))\n"
   ]
  },
  {
   "cell_type": "markdown",
   "metadata": {},
   "source": [
    "5.\tPython program to print even numbers in a list"
   ]
  },
  {
   "cell_type": "code",
   "execution_count": 4,
   "metadata": {},
   "outputs": [
    {
     "name": "stdout",
     "output_type": "stream",
     "text": [
      "List :  [23, 45, 66, 5, 45, 90, 86]\n",
      " Printing the even numbers in the list \n",
      "66 90 86 "
     ]
    }
   ],
   "source": [
    "l=[23,45,66,5,45,90,86]\n",
    "print(\"List : \",l)\n",
    "print(\" Printing the even numbers in the list \")\n",
    "for i in l:\n",
    "    if i%2==0:\n",
    "        print(i,end=\" \")"
   ]
  },
  {
   "cell_type": "markdown",
   "metadata": {},
   "source": [
    "6.\tPython program to print odd numbers in a List"
   ]
  },
  {
   "cell_type": "code",
   "execution_count": 5,
   "metadata": {},
   "outputs": [
    {
     "name": "stdout",
     "output_type": "stream",
     "text": [
      "List :  [23, 45, 66, 5, 45, 90, 86]\n",
      " Printing the odd numbers in the list \n",
      "23 45 5 45 "
     ]
    }
   ],
   "source": [
    "l=[23,45,66,5,45,90,86]\n",
    "print(\"List : \",l)\n",
    "print(\" Printing the odd numbers in the list \")\n",
    "for i in l:\n",
    "    if i%2==1:\n",
    "        print(i,end=\" \")"
   ]
  },
  {
   "cell_type": "markdown",
   "metadata": {},
   "source": [
    "7.\tPython program to print all even numbers in a range"
   ]
  },
  {
   "cell_type": "code",
   "execution_count": 6,
   "metadata": {},
   "outputs": [
    {
     "name": "stdout",
     "output_type": "stream",
     "text": [
      "Enter a number10\n",
      "2 4 6 8 "
     ]
    }
   ],
   "source": [
    "\n",
    "N=int(input(\"Enter a number \"))\n",
    "print(\"Printing the even numbers in the range \")\n",
    "for i in range(1,N):\n",
    "    if i%2==0:\n",
    "        print(i,end=\" \")"
   ]
  },
  {
   "cell_type": "markdown",
   "metadata": {},
   "source": [
    "8.\tPython program to print all odd numbers in a range"
   ]
  },
  {
   "cell_type": "code",
   "execution_count": 7,
   "metadata": {},
   "outputs": [
    {
     "name": "stdout",
     "output_type": "stream",
     "text": [
      "Enter a number 10\n",
      "Printing the odd numbers in the range \n",
      "1 3 5 7 9 "
     ]
    }
   ],
   "source": [
    "N=int(input(\"Enter a number \"))\n",
    "print(\"Printing the odd numbers in the range \")\n",
    "for i in range(1,N):\n",
    "    if i%2==1:\n",
    "        print(i,end=\" \")"
   ]
  },
  {
   "cell_type": "markdown",
   "metadata": {},
   "source": [
    "9.\tPython program to print positive numbers in a list\n"
   ]
  },
  {
   "cell_type": "code",
   "execution_count": 3,
   "metadata": {},
   "outputs": [
    {
     "name": "stdout",
     "output_type": "stream",
     "text": [
      "List :  [23, 45, 66, 5, 45, 90, 86]\n",
      " Printing the positive numbers in the list \n",
      "66 90 86 "
     ]
    }
   ],
   "source": [
    "l=[23,45,66,5,45,90,86]\n",
    "print(\"List : \",l)\n",
    "print(\" Printing the positive numbers in the list \")\n",
    "for i in l:\n",
    "    if i%2==0:\n",
    "        print(i,end=\" \")"
   ]
  },
  {
   "cell_type": "markdown",
   "metadata": {},
   "source": [
    "10.\tPython program to print negative numbers in a list"
   ]
  },
  {
   "cell_type": "code",
   "execution_count": 18,
   "metadata": {},
   "outputs": [
    {
     "name": "stdout",
     "output_type": "stream",
     "text": [
      "Enter a number 10\n",
      "Positive numbers in the given range are \n",
      "1 3 5 7 9 "
     ]
    }
   ],
   "source": [
    "n=int(input(\"Enter a number \"))\n",
    "print(\"Positive numbers in the given range are \")\n",
    "for i in range(1,n):\n",
    "    if i%2==1:\n",
    "        print(i,end=\" \")"
   ]
  },
  {
   "cell_type": "markdown",
   "metadata": {},
   "source": [
    "11.\tPython program to print all positive numbers in a range"
   ]
  },
  {
   "cell_type": "code",
   "execution_count": 11,
   "metadata": {},
   "outputs": [
    {
     "name": "stdout",
     "output_type": "stream",
     "text": [
      "Enter a number10\n",
      "Positive numbers in the given range are \n",
      "2 4 6 8 "
     ]
    }
   ],
   "source": [
    "n=int(input(\"Enter a number\"))\n",
    "print(\"Positive numbers in the given range are \")\n",
    "for i in range(1,n):\n",
    "    if i%2==0:\n",
    "        print(i,end=\" \")"
   ]
  },
  {
   "cell_type": "code",
   "execution_count": null,
   "metadata": {},
   "outputs": [],
   "source": []
  }
 ],
 "metadata": {
  "kernelspec": {
   "display_name": "Python 3",
   "language": "python",
   "name": "python3"
  },
  "language_info": {
   "codemirror_mode": {
    "name": "ipython",
    "version": 3
   },
   "file_extension": ".py",
   "mimetype": "text/x-python",
   "name": "python",
   "nbconvert_exporter": "python",
   "pygments_lexer": "ipython3",
   "version": "3.7.4"
  }
 },
 "nbformat": 4,
 "nbformat_minor": 2
}
