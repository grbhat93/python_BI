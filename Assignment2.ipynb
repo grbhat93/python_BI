{
 "cells": [
  {
   "cell_type": "code",
   "execution_count": 3,
   "metadata": {},
   "outputs": [
    {
     "name": "stdout",
     "output_type": "stream",
     "text": [
      "Enter a no 25\n",
      "Fibonacci sequence:\n",
      "0\n",
      "1\n",
      "1\n",
      "2\n",
      "3\n",
      "5\n",
      "8\n",
      "13\n",
      "21\n",
      "34\n",
      "55\n",
      "89\n",
      "144\n",
      "233\n",
      "377\n",
      "610\n",
      "987\n",
      "1597\n",
      "2584\n",
      "4181\n",
      "6765\n",
      "10946\n",
      "17711\n",
      "28657\n",
      "46368\n"
     ]
    }
   ],
   "source": [
    "#1.\tPython Program for n-th Fibonacci number\n",
    "\n",
    "n = int(input(\"Enter a no \"))\n",
    "\n",
    "# first two terms\n",
    "n1, n2 = 0, 1\n",
    "count = 0\n",
    "\n",
    "# check if the number of terms is valid\n",
    "if n <= 0:\n",
    "   print(\"Please enter a positive integer\")\n",
    "# if there is only one term, return n1\n",
    "elif n == 1:\n",
    "   print(\"Fibonacci sequence upto\",n,\":\")\n",
    "   print(n1)\n",
    "# generate fibonacci sequence\n",
    "else:\n",
    "   print(\"Fibonacci sequence:\")\n",
    "   while count < n:\n",
    "       print(n1)\n",
    "       n3 = n1 + n2\n",
    "       # update values\n",
    "       n1 = n2\n",
    "       n2 = n3\n",
    "       count += 1"
   ]
  },
  {
   "cell_type": "code",
   "execution_count": 4,
   "metadata": {},
   "outputs": [
    {
     "name": "stdout",
     "output_type": "stream",
     "text": [
      "Enter a number89\n",
      "89 is a Fibonacci Number\n"
     ]
    }
   ],
   "source": [
    "#2.Python Program for How to check if a given number is Fibonacci number?\n",
    "\n",
    "import math\n",
    "# if x is perfect square\n",
    "def isPerfectSquare(x):\n",
    "    s = int(math.sqrt(x))\n",
    "    #print(s*s == x)\n",
    "    return s*s == x\n",
    "\n",
    "\n",
    "# if n is a Fibinacci Number\n",
    "def isFibonacci(n):\n",
    "   #if one of 5*n*n + 4 or 5*n*n - 4 or both is a perferct square\n",
    "   return isPerfectSquare(5*n*n + 4) or isPerfectSquare(5*n*n - 4)\n",
    "i=int(input(\"Enter a number\"))\n",
    "if (isFibonacci(i) == True):\n",
    "    print (i,\"is a Fibonacci Number\")\n",
    "else:\n",
    "    print (i,\"is a not Fibonacci Number\")"
   ]
  },
  {
   "cell_type": "code",
   "execution_count": 12,
   "metadata": {},
   "outputs": [
    {
     "name": "stdout",
     "output_type": "stream",
     "text": [
      "Position of n'th multiple of k inFibonacci Series is 12\n",
      "Number is  144\n"
     ]
    }
   ],
   "source": [
    "#3.\tPython Program for n\\’th multiple of a number in Fibonacci Series\n",
    "\n",
    "def findPosition(k, n):\n",
    "    f1 = 0\n",
    "    f2 = 1\n",
    "    i = 2;\n",
    "    while i != 0:\n",
    "        f3 = f1 + f2;\n",
    "        f1 = f2;\n",
    "        f2 = f3;\n",
    "        if f2 % k == 0:\n",
    "            pos= n * i\n",
    "            return pos\n",
    "\n",
    "        i += 1\n",
    "\n",
    "    return\n",
    "\n",
    "\n",
    "# Multiple no.\n",
    "n = 2;\n",
    "# Number of whose multiple we are finding\n",
    "k = 4;\n",
    "\n",
    "def fib(n):\n",
    "    prevno=0\n",
    "    curno=1\n",
    "    for i in range(1, n):\n",
    "        preprevno=prevno\n",
    "        prevno=curno\n",
    "        curno=prevno+preprevno\n",
    "    return curno\n",
    "pos=findPosition(k, n)\n",
    "print(\"Position of n\\'th multiple of k in\"\n",
    "      \"Fibonacci Series is\", findPosition(k, n));\n",
    "print(\"Number is \",fib(pos))\n",
    "    "
   ]
  },
  {
   "cell_type": "code",
   "execution_count": 14,
   "metadata": {},
   "outputs": [
    {
     "name": "stdout",
     "output_type": "stream",
     "text": [
      "Enter character A\n",
      "ASCII value of the character is  65\n"
     ]
    }
   ],
   "source": [
    "#4.\tProgram to print ASCII Value of a character\n",
    "\n",
    "ch=input(\"Enter character \")\n",
    "print(\"ASCII value of the character is \",ord(ch))\n"
   ]
  },
  {
   "cell_type": "code",
   "execution_count": 19,
   "metadata": {},
   "outputs": [
    {
     "name": "stdout",
     "output_type": "stream",
     "text": [
      "Enter a number 5\n",
      " Sum of squares of 5 Natural number is 55\n"
     ]
    }
   ],
   "source": [
    "#5.\tPython Program for Sum of squares of first n natural numbers\n",
    "\n",
    "sum=0\n",
    "no=int(input(\"Enter a number \"))\n",
    "print(\" Sum of squares of \"+str(no)+\" Natural number is \",end=\"\")\n",
    "for i in range(1,no+1):\n",
    "    sum=sum+i*i\n",
    "print(sum)"
   ]
  },
  {
   "cell_type": "code",
   "execution_count": 21,
   "metadata": {},
   "outputs": [
    {
     "name": "stdout",
     "output_type": "stream",
     "text": [
      "Enter a number 3\n",
      " Sum of Cubes of 3 Natural number is 36\n"
     ]
    }
   ],
   "source": [
    "#6.\tPython Program for cube sum of first n natural numbers\n",
    "\n",
    "sum=0\n",
    "no=int(input(\"Enter a number \"))\n",
    "print(\" Sum of Cubes of \"+str(no)+\" Natural number is \",end=\"\")\n",
    "for i in range(1,no+1):\n",
    "    sum=sum+i*i*i\n",
    "print(sum)"
   ]
  },
  {
   "cell_type": "code",
   "execution_count": 31,
   "metadata": {},
   "outputs": [
    {
     "name": "stdout",
     "output_type": "stream",
     "text": [
      " sum of array is   21\n"
     ]
    }
   ],
   "source": [
    "#7.\tPython Program to find sum of array\n",
    "\n",
    "def arraysum(arr):\n",
    "    sum=0\n",
    "    for i in arr:\n",
    "        \n",
    "        sum+=i\n",
    "    return sum\n",
    "arr=[3,5,6,7]\n",
    "\n",
    "print(\" sum of array is  \",arraysum(arr))\n",
    " "
   ]
  },
  {
   "cell_type": "code",
   "execution_count": 34,
   "metadata": {},
   "outputs": [
    {
     "name": "stdout",
     "output_type": "stream",
     "text": [
      " Program to find largest element in an array \n",
      "**************************************************\n",
      "                                                  \n",
      "Max of array is  98\n"
     ]
    }
   ],
   "source": [
    "#8.\tPython Program to find largest element in an array\n",
    "\n",
    "print(\" Program to find largest element in an array \")\n",
    "print('*'*50)\n",
    "print(\" \"*50)\n",
    "arr=[2,5,9,23,7,98,54,87]\n",
    "n=len(arr)\n",
    "max=arr[0]\n",
    "for i in range(1,n):\n",
    "    if arr[i]>max:\n",
    "        max=arr[i]\n",
    "print(\"Max of array is \",max)\n",
    "    \n",
    "   "
   ]
  },
  {
   "cell_type": "code",
   "execution_count": 35,
   "metadata": {},
   "outputs": [
    {
     "name": "stdout",
     "output_type": "stream",
     "text": [
      "Array after left rotation is:  [3, 4, 5, 6, 7, 1, 2]\n"
     ]
    }
   ],
   "source": [
    "#9.\tPython Program for array rotation\n",
    "def rotateArray(arr, n, d):\n",
    "    temp = []\n",
    "    i = 0\n",
    "    while (i < d):\n",
    "        temp.append(arr[i])\n",
    "        i = i + 1\n",
    "    i = 0\n",
    "    while (d < n):\n",
    "        arr[i] = arr[d]\n",
    "        i = i + 1\n",
    "        d = d + 1\n",
    "    arr[:] = arr[: i] + temp\n",
    "    return arr\n",
    "\n",
    "\n",
    "# Driver function to test above function\n",
    "arr = [1, 2, 3, 4, 5, 6, 7]\n",
    "print(\"Array after left rotation is: \", end=' ')\n",
    "print(rotateArray(arr, len(arr), 2))"
   ]
  },
  {
   "cell_type": "code",
   "execution_count": 36,
   "metadata": {},
   "outputs": [
    {
     "name": "stdout",
     "output_type": "stream",
     "text": [
      "3 4 5 6 7 1 2 "
     ]
    }
   ],
   "source": [
    "#10.\tPython Program for Reversal algorithm for array rotation\n",
    "\n",
    "# Function to reverse arr[] from index start to end\n",
    "def rverseArray(arr, start, end):\n",
    "    while (start < end):\n",
    "        temp = arr[start]\n",
    "        arr[start] = arr[end]\n",
    "        arr[end] = temp\n",
    "        start += 1\n",
    "        end = end - 1\n",
    "\n",
    "\n",
    "# Function to left rotate arr[] of size n by d\n",
    "def leftRotate(arr, d):\n",
    "    n = len(arr)\n",
    "    rverseArray(arr, 0, d - 1)\n",
    "    rverseArray(arr, d, n - 1)\n",
    "    rverseArray(arr, 0, n - 1)\n",
    "\n",
    "\n",
    "# Function to print an array\n",
    "def printArray(arr):\n",
    "    for i in range(0, len(arr)):\n",
    "        print(arr[i],end=\" \")\n",
    "        \n",
    "\n",
    "\n",
    "# Driver function to test above functions\n",
    "arr = [1, 2, 3, 4, 5, 6, 7]\n",
    "leftRotate(arr, 2)  # Rotate array by 2\n",
    "printArray(arr)\n"
   ]
  },
  {
   "cell_type": "code",
   "execution_count": 37,
   "metadata": {},
   "outputs": [
    {
     "name": "stdout",
     "output_type": "stream",
     "text": [
      "5 6 52 36 12 10 "
     ]
    }
   ],
   "source": [
    "#11.\tPython Program to Split the array and add the first part to the end\n",
    "\n",
    "def splitArr(a, n, k): \n",
    "   b = a[:k]\n",
    "   return (a[k::]+b[::])\n",
    "          \n",
    "  \n",
    "# main\n",
    "arr = [12, 10, 5, 6, 52, 36]\n",
    "n = len(arr)\n",
    "position = 2\n",
    "arr = splitArr(arr, n, position)\n",
    "for i in range(0, n): \n",
    "    print(arr[i], end = ' ')"
   ]
  },
  {
   "cell_type": "code",
   "execution_count": null,
   "metadata": {},
   "outputs": [],
   "source": []
  }
 ],
 "metadata": {
  "kernelspec": {
   "display_name": "Python 3",
   "language": "python",
   "name": "python3"
  },
  "language_info": {
   "codemirror_mode": {
    "name": "ipython",
    "version": 3
   },
   "file_extension": ".py",
   "mimetype": "text/x-python",
   "name": "python",
   "nbconvert_exporter": "python",
   "pygments_lexer": "ipython3",
   "version": "3.7.4"
  }
 },
 "nbformat": 4,
 "nbformat_minor": 2
}
